{
 "cells": [
  {
   "cell_type": "markdown",
   "id": "536781af",
   "metadata": {},
   "source": [
    "# Test 1: Levenshtein Distance"
   ]
  },
  {
   "cell_type": "markdown",
   "id": "1102e277",
   "metadata": {},
   "source": [
    "<font size=4px>1. Function to calculate levenshtein distance</font>"
   ]
  },
  {
   "cell_type": "code",
   "execution_count": 1,
   "id": "4999db62",
   "metadata": {},
   "outputs": [],
   "source": [
    "def levenshtein(a, b):\n",
    "    if a==b:\n",
    "        return 0\n",
    "    if not a:\n",
    "        return len(b)\n",
    "    if not b:\n",
    "        return len(a)\n",
    "    # Take the minimum of the following case\n",
    "    return min(\n",
    "        levenshtein(a[1:], b[1:]) + (a[0] != b[0]), # Replace first character \n",
    "        levenshtein (a[1:], b) + 1, # Remove first character \n",
    "        levenshtein(a, b[1:]) + 1 # Insert first character\n",
    "        )"
   ]
  },
  {
   "cell_type": "markdown",
   "id": "28684ef3",
   "metadata": {},
   "source": [
    "<font size = 4px>2. Importing pandas data from Excel file</font>"
   ]
  },
  {
   "cell_type": "code",
   "execution_count": 9,
   "id": "9d59e37d",
   "metadata": {},
   "outputs": [],
   "source": [
    "import pandas as pd\n",
    "\n",
    "df = pd.read_excel(\"TaskData.xlsx\", header=None, names=['Careers'], dtype={'Careers':'object'})\n",
    "df['Careers']=df['Careers'].str.upper()\n",
    "\n",
    "valid_careers=['ENGINEER', 'DOCTOR', 'TEACHER', 'DENTIST', 'NURSE', 'LAWYER', 'POLICE', 'ARCHITECT', 'ACCOUNTANT', 'PHARMACIST']"
   ]
  },
  {
   "cell_type": "code",
   "execution_count": 10,
   "id": "92f58a52",
   "metadata": {},
   "outputs": [
    {
     "data": {
      "text/html": [
       "<div>\n",
       "<style scoped>\n",
       "    .dataframe tbody tr th:only-of-type {\n",
       "        vertical-align: middle;\n",
       "    }\n",
       "\n",
       "    .dataframe tbody tr th {\n",
       "        vertical-align: top;\n",
       "    }\n",
       "\n",
       "    .dataframe thead th {\n",
       "        text-align: right;\n",
       "    }\n",
       "</style>\n",
       "<table border=\"1\" class=\"dataframe\">\n",
       "  <thead>\n",
       "    <tr style=\"text-align: right;\">\n",
       "      <th></th>\n",
       "      <th>Careers</th>\n",
       "    </tr>\n",
       "  </thead>\n",
       "  <tbody>\n",
       "    <tr>\n",
       "      <th>0</th>\n",
       "      <td>COKTER</td>\n",
       "    </tr>\n",
       "    <tr>\n",
       "      <th>1</th>\n",
       "      <td>DENTIISTS</td>\n",
       "    </tr>\n",
       "    <tr>\n",
       "      <th>2</th>\n",
       "      <td>ENGINIR</td>\n",
       "    </tr>\n",
       "    <tr>\n",
       "      <th>3</th>\n",
       "      <td>POLICE</td>\n",
       "    </tr>\n",
       "    <tr>\n",
       "      <th>4</th>\n",
       "      <td>ENGNEIEAR</td>\n",
       "    </tr>\n",
       "  </tbody>\n",
       "</table>\n",
       "</div>"
      ],
      "text/plain": [
       "     Careers\n",
       "0     COKTER\n",
       "1  DENTIISTS\n",
       "2    ENGINIR\n",
       "3     POLICE\n",
       "4  ENGNEIEAR"
      ]
     },
     "execution_count": 10,
     "metadata": {},
     "output_type": "execute_result"
    }
   ],
   "source": [
    "df.head(5)"
   ]
  },
  {
   "cell_type": "markdown",
   "id": "8a99e6fe",
   "metadata": {},
   "source": [
    "<font size=4px>3. This 'for' loop iterates over the dataset of misspelled careers and compares with the valid careers to find the closest match using the levenshtein distance between each wrong spelling with the valid_career data set. Least levenshtein distance implies closest relation</font>"
   ]
  },
  {
   "cell_type": "markdown",
   "id": "39178495",
   "metadata": {},
   "source": [
    "Here to minimise the execution time, a threshold of value 2 has been set. Whenever the levenshtein distance b/w career column and valid_career is less or equals to 2, this automatically takes the valid_career as expected spelling and stops iterating further for that particular career input."
   ]
  },
  {
   "cell_type": "code",
   "execution_count": 3,
   "id": "6e0f46d3",
   "metadata": {
    "scrolled": true
   },
   "outputs": [],
   "source": [
    "threshold=2\n",
    "i=0\n",
    "for career in df['Careers']:\n",
    "    mini=99\n",
    "    for valid_career in valid_careers:\n",
    "        z = levenshtein(career, valid_career)\n",
    "        if z<mini:\n",
    "            mini=z\n",
    "            expected=valid_career\n",
    "            if mini<=threshold:\n",
    "                break\n",
    "\n",
    "    df.at[i, 'Careers']=expected\n",
    "    i+=1"
   ]
  },
  {
   "cell_type": "code",
   "execution_count": 8,
   "id": "c277bf86",
   "metadata": {},
   "outputs": [
    {
     "data": {
      "text/html": [
       "<div>\n",
       "<style scoped>\n",
       "    .dataframe tbody tr th:only-of-type {\n",
       "        vertical-align: middle;\n",
       "    }\n",
       "\n",
       "    .dataframe tbody tr th {\n",
       "        vertical-align: top;\n",
       "    }\n",
       "\n",
       "    .dataframe thead th {\n",
       "        text-align: right;\n",
       "    }\n",
       "</style>\n",
       "<table border=\"1\" class=\"dataframe\">\n",
       "  <thead>\n",
       "    <tr style=\"text-align: right;\">\n",
       "      <th></th>\n",
       "      <th>Careers</th>\n",
       "    </tr>\n",
       "  </thead>\n",
       "  <tbody>\n",
       "    <tr>\n",
       "      <th>0</th>\n",
       "      <td>DOCTOR</td>\n",
       "    </tr>\n",
       "    <tr>\n",
       "      <th>1</th>\n",
       "      <td>DENTIST</td>\n",
       "    </tr>\n",
       "    <tr>\n",
       "      <th>2</th>\n",
       "      <td>ENGINEER</td>\n",
       "    </tr>\n",
       "    <tr>\n",
       "      <th>3</th>\n",
       "      <td>POLICE</td>\n",
       "    </tr>\n",
       "    <tr>\n",
       "      <th>4</th>\n",
       "      <td>ENGINEER</td>\n",
       "    </tr>\n",
       "  </tbody>\n",
       "</table>\n",
       "</div>"
      ],
      "text/plain": [
       "    Careers\n",
       "0    DOCTOR\n",
       "1   DENTIST\n",
       "2  ENGINEER\n",
       "3    POLICE\n",
       "4  ENGINEER"
      ]
     },
     "execution_count": 8,
     "metadata": {},
     "output_type": "execute_result"
    }
   ],
   "source": [
    "df.head(5)"
   ]
  },
  {
   "cell_type": "code",
   "execution_count": 4,
   "id": "de49783d",
   "metadata": {},
   "outputs": [],
   "source": [
    "df.to_excel(\"TaskData.xlsx\", index=False) # Export the corrected spelling in the Excel file"
   ]
  },
  {
   "cell_type": "code",
   "execution_count": 5,
   "id": "fc466cc1",
   "metadata": {},
   "outputs": [],
   "source": [
    "career_counts = df['Careers'].value_counts()  # Calculate the frequency of each career"
   ]
  },
  {
   "cell_type": "markdown",
   "id": "2a3474ea",
   "metadata": {},
   "source": [
    "<font size=4 px>4. Plot the frequency of each career in a bar chart using mtplotlib</font>"
   ]
  },
  {
   "cell_type": "code",
   "execution_count": 6,
   "id": "59a63aec",
   "metadata": {},
   "outputs": [
    {
     "data": {
      "image/png": "[encoded data removed]",
      "text/plain": [
       "<Figure size 640x480 with 1 Axes>"
      ]
     },
     "metadata": {},
     "output_type": "display_data"
    }
   ],
   "source": [
    "import matplotlib.pyplot as plt\n",
    "# show(career_counts.index, career_counts.values)\n",
    "\n",
    "plt.bar(career_counts.index, career_counts.values)  # Plot the bar chart in decreasing order\n",
    "# Label x & y axis and give a title to the plot\n",
    "plt.xlabel(\"Career Aspiration\")\n",
    "plt.ylabel(\"Frequency\")\n",
    "plt.title(\"Frequency of Career Aspirations\")\n",
    "plt.xticks(rotation=45, ha='right')  # Rotate x-labels by 45 deg for readability\n",
    "plt.show()"
   ]
  }
 ],
 "metadata": {
  "kernelspec": {
   "display_name": "Python 3 (ipykernel)",
   "language": "python",
   "name": "python3"
  },
  "language_info": {
   "codemirror_mode": {
    "name": "ipython",
    "version": 3
   },
   "file_extension": ".py",
   "mimetype": "text/x-python",
   "name": "python",
   "nbconvert_exporter": "python",
   "pygments_lexer": "ipython3",
   "version": "3.11.7"
  }
 },
 "nbformat": 4,
 "nbformat_minor": 5
}
