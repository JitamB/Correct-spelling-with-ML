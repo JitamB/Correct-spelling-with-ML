{
 "cells": [
  {
   "cell_type": "markdown",
   "id": "3d21a650",
   "metadata": {},
   "source": [
    "# Test 1: Jaccard Similarity"
   ]
  },
  {
   "cell_type": "markdown",
   "id": "ffd18a16",
   "metadata": {},
   "source": [
    "<font size=4px>1. Function to split words into its character list</font>"
   ]
  },
  {
   "cell_type": "code",
   "execution_count": 22,
   "id": "cc657329",
   "metadata": {},
   "outputs": [],
   "source": [
    "def splitChar(word):\n",
    "    characters = []\n",
    "    for char in word:\n",
    "        characters.append(char)\n",
    "    return characters"
   ]
  },
  {
   "cell_type": "markdown",
   "id": "36f486f3",
   "metadata": {},
   "source": [
    "<font size=4px>2. To calculate Jaccard similarity b/w a word (from wrong spelling dataset) and valid_careers_set</font>"
   ]
  },
  {
   "cell_type": "code",
   "execution_count": 23,
   "id": "c0190c72",
   "metadata": {},
   "outputs": [],
   "source": [
    "def jaccard(str1, set2):\n",
    "    set1 = set(splitChar(str1))\n",
    "\n",
    "    intersection = set1 & set2\n",
    "    union = set1 | set2\n",
    "    \n",
    "    return len(intersection)/len(union)"
   ]
  },
  {
   "cell_type": "markdown",
   "id": "7b31b055",
   "metadata": {},
   "source": [
    "<font size=4px>3. To change the valid_careers data to its set of character for each word</font>"
   ]
  },
  {
   "cell_type": "code",
   "execution_count": 24,
   "id": "63946163",
   "metadata": {},
   "outputs": [],
   "source": [
    "def career_set(careers):\n",
    "    vcs=[]\n",
    "    for career in careers:\n",
    "        career_char = set(splitChar(career))\n",
    "        vcs.append(career_char)\n",
    "    return vcs"
   ]
  },
  {
   "cell_type": "markdown",
   "id": "d04af18f",
   "metadata": {},
   "source": [
    "<font size = 4px>4. Importing data from Excel file using pandas</font>"
   ]
  },
  {
   "cell_type": "code",
   "execution_count": 25,
   "id": "2467f89c",
   "metadata": {},
   "outputs": [
    {
     "data": {
      "text/html": [
       "<div>\n",
       "<style scoped>\n",
       "    .dataframe tbody tr th:only-of-type {\n",
       "        vertical-align: middle;\n",
       "    }\n",
       "\n",
       "    .dataframe tbody tr th {\n",
       "        vertical-align: top;\n",
       "    }\n",
       "\n",
       "    .dataframe thead th {\n",
       "        text-align: right;\n",
       "    }\n",
       "</style>\n",
       "<table border=\"1\" class=\"dataframe\">\n",
       "  <thead>\n",
       "    <tr style=\"text-align: right;\">\n",
       "      <th></th>\n",
       "      <th>Careers</th>\n",
       "    </tr>\n",
       "  </thead>\n",
       "  <tbody>\n",
       "    <tr>\n",
       "      <th>0</th>\n",
       "      <td>COKTER</td>\n",
       "    </tr>\n",
       "    <tr>\n",
       "      <th>1</th>\n",
       "      <td>DENTIISTS</td>\n",
       "    </tr>\n",
       "    <tr>\n",
       "      <th>2</th>\n",
       "      <td>ENGINIR</td>\n",
       "    </tr>\n",
       "    <tr>\n",
       "      <th>3</th>\n",
       "      <td>POLICE</td>\n",
       "    </tr>\n",
       "    <tr>\n",
       "      <th>4</th>\n",
       "      <td>ENGNEIEAR</td>\n",
       "    </tr>\n",
       "  </tbody>\n",
       "</table>\n",
       "</div>"
      ],
      "text/plain": [
       "     Careers\n",
       "0     COKTER\n",
       "1  DENTIISTS\n",
       "2    ENGINIR\n",
       "3     POLICE\n",
       "4  ENGNEIEAR"
      ]
     },
     "execution_count": 25,
     "metadata": {},
     "output_type": "execute_result"
    }
   ],
   "source": [
    "import pandas as pd\n",
    "\n",
    "df = pd.read_excel(\"TaskData.xlsx\", header=None, names=['Careers'], dtype={'Careers':'object'})\n",
    "df['Careers']=df['Careers'].str.upper() # Uppercased the data to ignore case different mearasures\n",
    "df.head(5)"
   ]
  },
  {
   "cell_type": "markdown",
   "id": "b1a19a11",
   "metadata": {},
   "source": [
    "<font size=4px>5. Valid careers and their character form</font>"
   ]
  },
  {
   "cell_type": "code",
   "execution_count": 26,
   "id": "ca51c3cb",
   "metadata": {},
   "outputs": [],
   "source": [
    "valid_careers = ['ENGINEER', 'TEACHER', 'DENTIST', 'NURSE', 'LAWYER', 'DOCTOR', 'POLICE', 'ARCHITECT', 'ACCOUNTANT', 'PHARMACIST']\n",
    "valid_careers_set = career_set(valid_careers)"
   ]
  },
  {
   "cell_type": "markdown",
   "id": "749414d1",
   "metadata": {},
   "source": [
    "<font size = 4px>6. This 'for' loop iterates over the dataset of misspelled careers and compares with the valid careers to find the closest match using the jaccard similarity value (z). The higher the value of z, the more similar it is.</font>"
   ]
  },
  {
   "cell_type": "code",
   "execution_count": 27,
   "id": "d7a32862",
   "metadata": {
    "scrolled": true
   },
   "outputs": [],
   "source": [
    "i=0\n",
    "for career in df['Careers']:\n",
    "    maxi=-1\n",
    "    for index in range(len(valid_careers_set)):\n",
    "        z = jaccard(career, valid_careers_set[index])\n",
    "        if z>maxi:\n",
    "            maxi=z\n",
    "            expected=valid_careers[index]\n",
    "            \n",
    "\n",
    "    df.at[i, 'Careers']=expected\n",
    "    i+=1"
   ]
  },
  {
   "cell_type": "code",
   "execution_count": 31,
   "id": "8b4767d7",
   "metadata": {},
   "outputs": [
    {
     "data": {
      "text/html": [
       "<div>\n",
       "<style scoped>\n",
       "    .dataframe tbody tr th:only-of-type {\n",
       "        vertical-align: middle;\n",
       "    }\n",
       "\n",
       "    .dataframe tbody tr th {\n",
       "        vertical-align: top;\n",
       "    }\n",
       "\n",
       "    .dataframe thead th {\n",
       "        text-align: right;\n",
       "    }\n",
       "</style>\n",
       "<table border=\"1\" class=\"dataframe\">\n",
       "  <thead>\n",
       "    <tr style=\"text-align: right;\">\n",
       "      <th></th>\n",
       "      <th>Careers</th>\n",
       "    </tr>\n",
       "  </thead>\n",
       "  <tbody>\n",
       "    <tr>\n",
       "      <th>0</th>\n",
       "      <td>DOCTOR</td>\n",
       "    </tr>\n",
       "    <tr>\n",
       "      <th>1</th>\n",
       "      <td>DENTIST</td>\n",
       "    </tr>\n",
       "    <tr>\n",
       "      <th>2</th>\n",
       "      <td>ENGINEER</td>\n",
       "    </tr>\n",
       "    <tr>\n",
       "      <th>3</th>\n",
       "      <td>POLICE</td>\n",
       "    </tr>\n",
       "    <tr>\n",
       "      <th>4</th>\n",
       "      <td>ENGINEER</td>\n",
       "    </tr>\n",
       "  </tbody>\n",
       "</table>\n",
       "</div>"
      ],
      "text/plain": [
       "    Careers\n",
       "0    DOCTOR\n",
       "1   DENTIST\n",
       "2  ENGINEER\n",
       "3    POLICE\n",
       "4  ENGINEER"
      ]
     },
     "execution_count": 31,
     "metadata": {},
     "output_type": "execute_result"
    }
   ],
   "source": [
    "df.head(5)"
   ]
  },
  {
   "cell_type": "code",
   "execution_count": 32,
   "id": "704a090d",
   "metadata": {},
   "outputs": [],
   "source": [
    "df.to_excel(\"TaskData.xlsx\", index=False)  # Export the corrected spelling in the Excel file"
   ]
  },
  {
   "cell_type": "code",
   "execution_count": 29,
   "id": "9e3ad474",
   "metadata": {},
   "outputs": [],
   "source": [
    "career_counts = df['Careers'].value_counts()  # Calculate the frequency of each career"
   ]
  },
  {
   "cell_type": "markdown",
   "id": "e80752c3",
   "metadata": {},
   "source": [
    "<font size=4 px>6. Plot the frequency of each career in a bar chart using mtplotlib</font>"
   ]
  },
  {
   "cell_type": "code",
   "execution_count": 30,
   "id": "8d4dcdbd",
   "metadata": {},
   "outputs": [
    {
     "data": {
      "image/png": "[encoded data removed]",
      "text/plain": [
       "<Figure size 640x480 with 1 Axes>"
      ]
     },
     "metadata": {},
     "output_type": "display_data"
    }
   ],
   "source": [
    "import matplotlib.pyplot as plt\n",
    "\n",
    "plt.bar(career_counts.index, career_counts.values)  # Plot the bar chart in decreasing order\n",
    "# Label x & y axis and give a title to the plot\n",
    "plt.xlabel(\"Career Aspiration\")\n",
    "plt.ylabel(\"Frequency\")\n",
    "plt.title(\"Frequency of Career Aspirations\")\n",
    "\n",
    "plt.xticks(rotation=45, ha='right')  # Rotate x-labels by 45 deg for readability\n",
    "plt.show()"
   ]
  }
 ],
 "metadata": {
  "kernelspec": {
   "display_name": "Python 3 (ipykernel)",
   "language": "python",
   "name": "python3"
  },
  "language_info": {
   "codemirror_mode": {
    "name": "ipython",
    "version": 3
   },
   "file_extension": ".py",
   "mimetype": "text/x-python",
   "name": "python",
   "nbconvert_exporter": "python",
   "pygments_lexer": "ipython3",
   "version": "3.11.7"
  }
 },
 "nbformat": 4,
 "nbformat_minor": 5
}
