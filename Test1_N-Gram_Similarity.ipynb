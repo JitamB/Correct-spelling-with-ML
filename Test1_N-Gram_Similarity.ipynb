{
 "cells": [
  {
   "cell_type": "markdown",
   "id": "329c48a5",
   "metadata": {},
   "source": [
    "# Test 1: N-Gram Similarity"
   ]
  },
  {
   "cell_type": "markdown",
   "id": "4ec4af1c",
   "metadata": {},
   "source": [
    "<font size = 4px>1. Function to split words into list of characters</font>"
   ]
  },
  {
   "cell_type": "code",
   "execution_count": 3,
   "id": "fc302797",
   "metadata": {},
   "outputs": [],
   "source": [
    "def splitChar(word):\n",
    "    characters = []\n",
    "    for char in word:\n",
    "        characters.append(char)\n",
    "    return characters\n"
   ]
  },
  {
   "cell_type": "markdown",
   "id": "fd26a6d5",
   "metadata": {},
   "source": [
    "<font size = 4px>2. Function to convert word into n-gram format</font>"
   ]
  },
  {
   "cell_type": "code",
   "execution_count": 4,
   "id": "fb4fc8d2",
   "metadata": {},
   "outputs": [],
   "source": [
    "def splitGram(word, n):\n",
    "    char = splitChar(word)\n",
    "\n",
    "    ngrams = zip(*[char[i:] for i in range(n)])\n",
    "    ngrams = [''.join(ngram) for ngram in ngrams]\n",
    "    return ngrams\n"
   ]
  },
  {
   "cell_type": "markdown",
   "id": "d544c739",
   "metadata": {},
   "source": [
    "<font size = 4px>3. Function to determine the average n-gram similarity for 2 N values</font>"
   ]
  },
  {
   "cell_type": "code",
   "execution_count": 5,
   "id": "e5071f26",
   "metadata": {},
   "outputs": [],
   "source": [
    "def ngramSimilarity(word1, word2, n1, n2):\n",
    "    ngramSet1 = set(splitGram(word1, n1))\n",
    "    ngramSet2 = set(splitGram(word2, n1))\n",
    "    \n",
    "    intersec = ngramSet1 & ngramSet2\n",
    "    union = ngramSet1 | ngramSet2\n",
    "    value1 = len(intersec)/len(union)\n",
    "    \n",
    "    ngramSet1 = set(splitGram(word1, n2))\n",
    "    ngramSet2 = set(splitGram(word2, n2))\n",
    "    \n",
    "    intersec = ngramSet1 & ngramSet2\n",
    "    union = ngramSet1 | ngramSet2\n",
    "    value2 = len(intersec)/len(union)\n",
    "    \n",
    "    return (value1+value2)/2\n"
   ]
  },
  {
   "cell_type": "markdown",
   "id": "8ef4ba6e",
   "metadata": {},
   "source": [
    "<font size = 4px>4. Importing pandas data from Excel file</font>"
   ]
  },
  {
   "cell_type": "code",
   "execution_count": 6,
   "id": "45574671",
   "metadata": {},
   "outputs": [],
   "source": [
    "import pandas as pd\n",
    "\n",
    "df = pd.read_excel(\"TaskData.xlsx\", header=None, names=['Careers'], dtype={'Careers':'object'})\n",
    "df['Careers']=df['Careers'].str.upper() # Uppercased the data to ignore case different mearasures\n",
    "\n",
    "valid_careers = ['ENGINEER', 'NURSE', 'DOCTOR', 'DENTIST', 'TEACHER', 'LAWYER', 'POLICE', 'ARCHITECT', 'ACCOUNTANT', 'PHARMACIST']"
   ]
  },
  {
   "cell_type": "code",
   "execution_count": 7,
   "id": "56c81b1a",
   "metadata": {},
   "outputs": [
    {
     "data": {
      "text/html": [
       "<div>\n",
       "<style scoped>\n",
       "    .dataframe tbody tr th:only-of-type {\n",
       "        vertical-align: middle;\n",
       "    }\n",
       "\n",
       "    .dataframe tbody tr th {\n",
       "        vertical-align: top;\n",
       "    }\n",
       "\n",
       "    .dataframe thead th {\n",
       "        text-align: right;\n",
       "    }\n",
       "</style>\n",
       "<table border=\"1\" class=\"dataframe\">\n",
       "  <thead>\n",
       "    <tr style=\"text-align: right;\">\n",
       "      <th></th>\n",
       "      <th>Careers</th>\n",
       "    </tr>\n",
       "  </thead>\n",
       "  <tbody>\n",
       "    <tr>\n",
       "      <th>0</th>\n",
       "      <td>COKTER</td>\n",
       "    </tr>\n",
       "    <tr>\n",
       "      <th>1</th>\n",
       "      <td>DENTIISTS</td>\n",
       "    </tr>\n",
       "    <tr>\n",
       "      <th>2</th>\n",
       "      <td>ENGINIR</td>\n",
       "    </tr>\n",
       "    <tr>\n",
       "      <th>3</th>\n",
       "      <td>POLICE</td>\n",
       "    </tr>\n",
       "    <tr>\n",
       "      <th>4</th>\n",
       "      <td>ENGNEIEAR</td>\n",
       "    </tr>\n",
       "  </tbody>\n",
       "</table>\n",
       "</div>"
      ],
      "text/plain": [
       "     Careers\n",
       "0     COKTER\n",
       "1  DENTIISTS\n",
       "2    ENGINIR\n",
       "3     POLICE\n",
       "4  ENGNEIEAR"
      ]
     },
     "execution_count": 7,
     "metadata": {},
     "output_type": "execute_result"
    }
   ],
   "source": [
    "df.head(5)"
   ]
  },
  {
   "cell_type": "markdown",
   "id": "9aabfa51",
   "metadata": {},
   "source": [
    "<font size = 4px>5. This 'for' loop iterates over the dataset of misspelled careers and compares with the valid careers to find the closest match using the average n-gram similarity value (idx). The higher the value of idx, the more similar it is.</font>"
   ]
  },
  {
   "cell_type": "code",
   "execution_count": 8,
   "id": "5a71da53",
   "metadata": {},
   "outputs": [],
   "source": [
    "#Initialising n1 & n2\n",
    "n1=2\n",
    "n2=1\n",
    "\n",
    "i=0  #This i takes care of the row index of misspelled career data set\n",
    "for career in df['Careers']:\n",
    "    maxi=-1  # Maximum value of NGS associate with each career data initialised to -1\n",
    "    for index in range(len(valid_careers)):\n",
    "        idx = ngramSimilarity(career, valid_careers[index], n1, n2)\n",
    "        # Get the valid career for which idx is maximum\n",
    "        if idx>maxi:\n",
    "            maxi=idx\n",
    "            expected=valid_careers[index]\n",
    "\n",
    "    df.at[i, 'Careers']=expected  # Assign the corrected spelling to the Careers column\n",
    "    i+=1\n",
    "\n"
   ]
  },
  {
   "cell_type": "code",
   "execution_count": 9,
   "id": "f1c100e7",
   "metadata": {},
   "outputs": [
    {
     "data": {
      "text/html": [
       "<div>\n",
       "<style scoped>\n",
       "    .dataframe tbody tr th:only-of-type {\n",
       "        vertical-align: middle;\n",
       "    }\n",
       "\n",
       "    .dataframe tbody tr th {\n",
       "        vertical-align: top;\n",
       "    }\n",
       "\n",
       "    .dataframe thead th {\n",
       "        text-align: right;\n",
       "    }\n",
       "</style>\n",
       "<table border=\"1\" class=\"dataframe\">\n",
       "  <thead>\n",
       "    <tr style=\"text-align: right;\">\n",
       "      <th></th>\n",
       "      <th>Careers</th>\n",
       "    </tr>\n",
       "  </thead>\n",
       "  <tbody>\n",
       "    <tr>\n",
       "      <th>0</th>\n",
       "      <td>TEACHER</td>\n",
       "    </tr>\n",
       "    <tr>\n",
       "      <th>1</th>\n",
       "      <td>DENTIST</td>\n",
       "    </tr>\n",
       "    <tr>\n",
       "      <th>2</th>\n",
       "      <td>ENGINEER</td>\n",
       "    </tr>\n",
       "    <tr>\n",
       "      <th>3</th>\n",
       "      <td>POLICE</td>\n",
       "    </tr>\n",
       "    <tr>\n",
       "      <th>4</th>\n",
       "      <td>ENGINEER</td>\n",
       "    </tr>\n",
       "  </tbody>\n",
       "</table>\n",
       "</div>"
      ],
      "text/plain": [
       "    Careers\n",
       "0   TEACHER\n",
       "1   DENTIST\n",
       "2  ENGINEER\n",
       "3    POLICE\n",
       "4  ENGINEER"
      ]
     },
     "execution_count": 9,
     "metadata": {},
     "output_type": "execute_result"
    }
   ],
   "source": [
    "df.head(5)"
   ]
  },
  {
   "cell_type": "code",
   "execution_count": 10,
   "id": "70d7aad1",
   "metadata": {},
   "outputs": [],
   "source": [
    "df.to_excel(\"TaskData.xlsx\", index=False) # Export the corrected spelling in the Excel file"
   ]
  },
  {
   "cell_type": "code",
   "execution_count": 11,
   "id": "b98d2dd5",
   "metadata": {},
   "outputs": [],
   "source": [
    "career_counts = df['Careers'].value_counts()  # Calculate the frequency of each career"
   ]
  },
  {
   "cell_type": "markdown",
   "id": "8bfa97fd",
   "metadata": {},
   "source": [
    "<font size=4 px>6. Plot the frequency of each career in a bar chart using mtplotlib</font>"
   ]
  },
  {
   "cell_type": "code",
   "execution_count": 12,
   "id": "93204e78",
   "metadata": {
    "scrolled": false
   },
   "outputs": [
    {
     "data": {
      "image/png": "[encoded data removed]",
      "text/plain": [
       "<Figure size 640x480 with 1 Axes>"
      ]
     },
     "metadata": {},
     "output_type": "display_data"
    }
   ],
   "source": [
    "import matplotlib.pyplot as plt\n",
    "\n",
    "plt.bar(career_counts.index, career_counts.values) # Plot the bar chart in decreasing order\n",
    "\n",
    "# Label x & y axis and give a title to the plot\n",
    "plt.xlabel(\"Career Aspiration\")\n",
    "plt.ylabel(\"Frequency\")\n",
    "plt.title(\"Frequency of Career Aspirations\")\n",
    "\n",
    "plt.xticks(rotation=45, ha='right')  # Rotate x-labels by 45 deg for better readability\n",
    "plt.show()"
   ]
  },
  {
   "cell_type": "code",
   "execution_count": null,
   "id": "e56d96fb",
   "metadata": {},
   "outputs": [],
   "source": []
  }
 ],
 "metadata": {
  "kernelspec": {
   "display_name": "Python 3 (ipykernel)",
   "language": "python",
   "name": "python3"
  },
  "language_info": {
   "codemirror_mode": {
    "name": "ipython",
    "version": 3
   },
   "file_extension": ".py",
   "mimetype": "text/x-python",
   "name": "python",
   "nbconvert_exporter": "python",
   "pygments_lexer": "ipython3",
   "version": "3.11.7"
  }
 },
 "nbformat": 4,
 "nbformat_minor": 5
}
